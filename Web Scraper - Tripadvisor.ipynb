{
 "cells": [
  {
   "cell_type": "markdown",
   "metadata": {},
   "source": [
    "# Tripadvisor"
   ]
  },
  {
   "cell_type": "markdown",
   "metadata": {},
   "source": [
    "Use this link to explore this scraper\n",
    "\n",
    "<a>www.tripadvisor.in/Hotel_Review-g306995-d1056079-Reviews-Resort_Terra_ParaisoCalangute_North_Goa_District_Goa.html</a>"
   ]
  },
  {
   "cell_type": "code",
   "execution_count": 1,
   "metadata": {},
   "outputs": [
    {
     "name": "stdout",
     "output_type": "stream",
     "text": [
      "Number of Pages: 10\n"
     ]
    }
   ],
   "source": [
    "#importing the libraries\n",
    "\n",
    "from bs4 import BeautifulSoup as bs4\n",
    "\n",
    "import requests as req\n",
    "\n",
    "import pandas as pd\n",
    "\n",
    "#getting the number of pages to be scraped\n",
    "\n",
    "new = int(input(\"Number of Pages: \"))\n",
    "\n",
    "url = new * 5\n",
    "\n",
    "#creating a variables to store the values\n",
    "\n",
    "name = []\n",
    "pages = []\n",
    "dates = []\n",
    "titles = []\n",
    "reviews = []\n",
    "ratings = []\n",
    "\n",
    "#getting all the URL of the required page\n",
    "\n",
    "for i in range(0, url, 5):\n",
    "    new_url = (\"https://www.tripadvisor.in/Hotel_Review-g306995-d1056079-Reviews-or{}-Resort_Terra_Paraiso-Calangute_North_Goa_District_Goa.html#REVIEWS\").format(i)\n",
    "    pages.append(new_url)\n",
    "\n",
    "#scraping all the required data\n",
    "\n",
    "for item in pages:\n",
    "    page = req.get(item)\n",
    "    soup = bs4(page.text, \"html.parser\")\n",
    "\n",
    "    for i in soup.findAll(\"q\"):\n",
    "        review = i.text\n",
    "        reviews.append(review)\n",
    "\n",
    "    for r in soup.findAll(\"h1\", {\"id\": \"HEADING\"}):\n",
    "        res_name = r.text\n",
    "        name.append(res_name)\n",
    "\n",
    "    for t in soup.findAll(\"a\", {\"class\": \"ocfR3SKN\"}):\n",
    "        title = t.text\n",
    "        titles.append(title)\n",
    "\n",
    "    for d in soup.findAll(\"span\", {\"class\": \"_34Xs-BQm\"}):\n",
    "        date = d.text.replace(\"Date of stay: \", \"\")\n",
    "        dates.append(date)\n",
    "        \n",
    "    for ra in soup.findAll(\"div\", {\"data-test-target\":\"review-rating\"}):\n",
    "        rating = ra.span.get(\"class\")[1]\n",
    "        if rating == \"bubble_10\":\n",
    "            new_rating = 1\n",
    "        elif rating == \"bubble_20\":\n",
    "            new_rating = 2\n",
    "        elif rating == \"bubble_30\":\n",
    "            new_rating = 3\n",
    "        elif rating == \"bubble_40\":\n",
    "            new_rating = 4\n",
    "        elif rating == \"bubble_50\":\n",
    "            new_rating = 5    \n",
    "        ratings.append(new_rating)\n",
    "\n",
    "data = {\"Date of Stay\": dates, \"Title\": titles, \"Review\": reviews, \"Rating\": ratings}\n",
    "\n",
    "#creating the dataframe\n",
    "\n",
    "df=pd.DataFrame(data)\n",
    "df"
   ]
  },
  {
   "cell_type": "code",
   "execution_count": 3,
   "metadata": {},
   "outputs": [],
   "source": [
    "#export this dataframe to csv file\n",
    "df.to_csv(name[0].replace(\" \",\"\") + \".csv\", index=False)"
   ]
  },
  {
   "cell_type": "code",
   "execution_count": null,
   "metadata": {},
   "outputs": [],
   "source": []
  }
 ],
 "metadata": {
  "kernelspec": {
   "display_name": "Python 3",
   "language": "python",
   "name": "python3"
  },
  "language_info": {
   "codemirror_mode": {
    "name": "ipython",
    "version": 3
   },
   "file_extension": ".py",
   "mimetype": "text/x-python",
   "name": "python",
   "nbconvert_exporter": "python",
   "pygments_lexer": "ipython3",
   "version": "3.7.6"
  }
 },
 "nbformat": 4,
 "nbformat_minor": 4
}
